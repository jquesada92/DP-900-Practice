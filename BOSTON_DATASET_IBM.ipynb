{
  "nbformat": 4,
  "nbformat_minor": 0,
  "metadata": {
    "colab": {
      "name": "BOSTON_DATASET_IBM.ipynb",
      "provenance": [],
      "authorship_tag": "ABX9TyPXmCzKx568+CM4u2hF9h5U",
      "include_colab_link": true
    },
    "kernelspec": {
      "name": "python3",
      "display_name": "Python 3"
    },
    "language_info": {
      "name": "python"
    }
  },
  "cells": [
    {
      "cell_type": "markdown",
      "metadata": {
        "id": "view-in-github",
        "colab_type": "text"
      },
      "source": [
        "<a href=\"https://colab.research.google.com/github/jquesada92/DP-900-Practice/blob/main/BOSTON_DATASET_IBM.ipynb\" target=\"_parent\"><img src=\"https://colab.research.google.com/assets/colab-badge.svg\" alt=\"Open In Colab\"/></a>"
      ]
    },
    {
      "cell_type": "code",
      "source": [
        "import pandas as pd  \n",
        "import numpy as np\n",
        "import matplotlib.pyplot as plt\n",
        "import seaborn as sns\n",
        "from scipy import stats\n",
        "sns.set_theme('notebook')\n",
        "plt.style.use(\"ggplot\")\n",
        "\n",
        "plt.rcParams[\"figure.titlesize\"] = 20\n",
        "plt.rcParams[\"axes.titlesize\"] = 18\n",
        "plt.rcParams[\"figure.figsize\"] = (8, 4)\n",
        "! date"
      ],
      "metadata": {
        "colab": {
          "base_uri": "https://localhost:8080/"
        },
        "id": "JTLhYQ_nqroY",
        "outputId": "b65ae46e-f7a3-40ef-ee66-ce80fc5bc7df"
      },
      "execution_count": 117,
      "outputs": [
        {
          "output_type": "stream",
          "name": "stdout",
          "text": [
            "Wed Jun 22 21:37:15 UTC 2022\n"
          ]
        }
      ]
    },
    {
      "cell_type": "markdown",
      "source": [
        "# Project Scenario: \n",
        "You are a Data Scientist with a housing agency in Boston MA, you have been given access to a previous dataset on housing prices derived from the U.S. Census Service to present insights to higher management. Based on your experience in Statistics, what information can you provide them to help with making an informed decision? Upper management will like to get some insight into the following.\n",
        "\n",
        "Is there a significant difference in the median value of houses bounded by the Charles river or not?\n",
        "\n",
        "Is there a difference in median values of houses of each proportion of owner-occupied units built before 1940?\n",
        "\n",
        "Can we conclude that there is no relationship between Nitric oxide concentrations and the proportion of non-retail business acres per town?\n",
        "\n",
        "What is the impact of an additional weighted distance to the five Boston employment centres on the median value of owner-occupied homes?\n",
        "\n",
        "Using the appropriate graphs and charts, generate basic statistics and visualizations that you think will be useful for the upper management to give them important insight given the question they are asking, in your graphs, include an explanation of each statistic. \n",
        "\n",
        "Details regarding the project will be broken down in the next reading sections."
      ],
      "metadata": {
        "id": "d3ueN6kMoIDA"
      }
    },
    {
      "cell_type": "markdown",
      "source": [
        "\n",
        "\n",
        "Project Tasks:\n",
        "\n",
        "> For the project scenario, here is an overview of your tasks. The following reading sections will provide you with detailed instructions for each task.\n",
        "\n",
        "- Task 1: Familiarize yourself with the dataset \n",
        "\n",
        "- Task 2: (Optional) If you do not already have an instance of Watson Studio, create an IBM Cloud Lite account and provision an instance of Waston Studio.\n",
        "\n",
        "- Task 3: Load the dataset in a Jupyter Notebook using Watson Studio.\n",
        "\n",
        "- Task 4: Generate basic statistics and visualizations for upper management. \n",
        "\n",
        "- Task 5: Use the appropriate tests to answer the questions provided.\n",
        "\n",
        "- Task 6: Share your Jupyter Notebook.\n",
        "\n",
        "_This project is worth 15% of your final grade. Detailed instructions for each of these tasks follow._"
      ],
      "metadata": {
        "id": "1eKcUuiHoXpx"
      }
    },
    {
      "cell_type": "markdown",
      "source": [
        "## Task 1: Become familiar with the dataset\n",
        "\n",
        "The following describes the dataset variables:\n",
        "\n",
        "  - CRIM: per capita crime rate by town\n",
        "  - ZN: proportion of residential land zoned for lots over 25,000 sq.ft.\n",
        "  - INDUS: proportion of non-retail business acres per town.\n",
        "  - CHAS: Charles River dummy variable (1 if tract bounds river; 0 otherwise)\n",
        "  - NOX: nitric oxides concentration (parts per 10 million)\n",
        "  - RM: average number of rooms per dwelling\n",
        "  - AGE: proportion of owner-occupied units built prior to 1940\n",
        "  - DIS: weighted distances to five Boston employment centres\n",
        "  - RAD: index of accessibility to radial highways\n",
        "  - TAX: full-value property-tax rate per 10,000 dollars.\n",
        "  - PTRATIO: pupil_teacher ratio by town\n",
        "  - LSTAT: % lower status of the population\n",
        "  - MEDV: Median value of owner-occupied homes in $1000's\n",
        "\n"
      ],
      "metadata": {
        "id": "IMdZVUqgqCL_"
      }
    },
    {
      "cell_type": "markdown",
      "source": [
        "## Task 3: In the Jupyter notebook you created in the previous task, add a code cell, and copy the contents below to load the Boston housing dataset in the notebook."
      ],
      "metadata": {
        "id": "2sNQRxi8zTOT"
      }
    },
    {
      "cell_type": "code",
      "source": [
        "boston_url = 'https://cf-courses-data.s3.us.cloud-object-storage.appdomain.cloud/IBMDeveloperSkillsNetwork-ST0151EN-SkillsNetwork/labs/boston_housing.csv'\n",
        "boston_df = pd.read_csv(boston_url)"
      ],
      "metadata": {
        "id": "fDpTMna6tQhg"
      },
      "execution_count": 16,
      "outputs": []
    },
    {
      "cell_type": "code",
      "source": [
        "boston_df.info()"
      ],
      "metadata": {
        "colab": {
          "base_uri": "https://localhost:8080/"
        },
        "id": "aWIq22urtMdg",
        "outputId": "2755058d-e738-428a-e6da-73d33ede4128"
      },
      "execution_count": 19,
      "outputs": [
        {
          "output_type": "stream",
          "name": "stdout",
          "text": [
            "<class 'pandas.core.frame.DataFrame'>\n",
            "RangeIndex: 506 entries, 0 to 505\n",
            "Data columns (total 14 columns):\n",
            " #   Column      Non-Null Count  Dtype  \n",
            "---  ------      --------------  -----  \n",
            " 0   Unnamed: 0  506 non-null    int64  \n",
            " 1   CRIM        506 non-null    float64\n",
            " 2   ZN          506 non-null    float64\n",
            " 3   INDUS       506 non-null    float64\n",
            " 4   CHAS        506 non-null    float64\n",
            " 5   NOX         506 non-null    float64\n",
            " 6   RM          506 non-null    float64\n",
            " 7   AGE         506 non-null    float64\n",
            " 8   DIS         506 non-null    float64\n",
            " 9   RAD         506 non-null    float64\n",
            " 10  TAX         506 non-null    float64\n",
            " 11  PTRATIO     506 non-null    float64\n",
            " 12  LSTAT       506 non-null    float64\n",
            " 13  MEDV        506 non-null    float64\n",
            "dtypes: float64(13), int64(1)\n",
            "memory usage: 55.5 KB\n"
          ]
        }
      ]
    },
    {
      "cell_type": "markdown",
      "source": [
        "## Task 4: Generate Descriptive Statistics and Visualizations\n",
        "Generate the following and explain your findings:\n",
        "\n",
        "### For the \"Median value of owner-occupied homes\" provide a boxplot\n",
        "\n"
      ],
      "metadata": {
        "id": "FxfSx7QttX1z"
      }
    },
    {
      "cell_type": "code",
      "source": [
        "MEDV_boxplot = sns.boxplot(data = boston_df,x=\"MEDV\")\n",
        "MEDV_boxplot.set_title('Median value of owner-occupied homes')\n",
        "plt.show()"
      ],
      "metadata": {
        "colab": {
          "base_uri": "https://localhost:8080/",
          "height": 305
        },
        "id": "tdohjFACwR-p",
        "outputId": "6d6afab7-9302-433d-9a2a-b6f8b7b93cf2"
      },
      "execution_count": 76,
      "outputs": [
        {
          "output_type": "display_data",
          "data": {
            "text/plain": [
              "<Figure size 576x288 with 1 Axes>"
            ],
            "image/png": "[encoded data removed]"
          },
          "metadata": {}
        }
      ]
    },
    {
      "cell_type": "code",
      "source": [
        "boston_df.MEDV.describe().to_frame().T"
      ],
      "metadata": {
        "colab": {
          "base_uri": "https://localhost:8080/",
          "height": 81
        },
        "id": "gj-MFC9PyYTW",
        "outputId": "55f7481d-68bf-40be-9800-9877c29a6bda"
      },
      "execution_count": 46,
      "outputs": [
        {
          "output_type": "execute_result",
          "data": {
            "text/plain": [
              "      count       mean       std  min     25%   50%   75%   max\n",
              "MEDV  506.0  22.532806  9.197104  5.0  17.025  21.2  25.0  50.0"
            ],
            "text/html": [
              "\n",
              "  <div id=\"df-a6298f81-8046-4612-854f-b30cf52cf881\">\n",
              "    <div class=\"colab-df-container\">\n",
              "      <div>\n",
              "<style scoped>\n",
              "    .dataframe tbody tr th:only-of-type {\n",
              "        vertical-align: middle;\n",
              "    }\n",
              "\n",
              "    .dataframe tbody tr th {\n",
              "        vertical-align: top;\n",
              "    }\n",
              "\n",
              "    .dataframe thead th {\n",
              "        text-align: right;\n",
              "    }\n",
              "</style>\n",
              "<table border=\"1\" class=\"dataframe\">\n",
              "  <thead>\n",
              "    <tr style=\"text-align: right;\">\n",
              "      <th></th>\n",
              "      <th>count</th>\n",
              "      <th>mean</th>\n",
              "      <th>std</th>\n",
              "      <th>min</th>\n",
              "      <th>25%</th>\n",
              "      <th>50%</th>\n",
              "      <th>75%</th>\n",
              "      <th>max</th>\n",
              "    </tr>\n",
              "  </thead>\n",
              "  <tbody>\n",
              "    <tr>\n",
              "      <th>MEDV</th>\n",
              "      <td>506.0</td>\n",
              "      <td>22.532806</td>\n",
              "      <td>9.197104</td>\n",
              "      <td>5.0</td>\n",
              "      <td>17.025</td>\n",
              "      <td>21.2</td>\n",
              "      <td>25.0</td>\n",
              "      <td>50.0</td>\n",
              "    </tr>\n",
              "  </tbody>\n",
              "</table>\n",
              "</div>\n",
              "      <button class=\"colab-df-convert\" onclick=\"convertToInteractive('df-a6298f81-8046-4612-854f-b30cf52cf881')\"\n",
              "              title=\"Convert this dataframe to an interactive table.\"\n",
              "              style=\"display:none;\">\n",
              "        \n",
              "  <svg xmlns=\"http://www.w3.org/2000/svg\" height=\"24px\"viewBox=\"0 0 24 24\"\n",
              "       width=\"24px\">\n",
              "    <path d=\"M0 0h24v24H0V0z\" fill=\"none\"/>\n",
              "    <path d=\"M18.56 5.44l.94 2.06.94-2.06 2.06-.94-2.06-.94-.94-2.06-.94 2.06-2.06.94zm-11 1L8.5 8.5l.94-2.06 2.06-.94-2.06-.94L8.5 2.5l-.94 2.06-2.06.94zm10 10l.94 2.06.94-2.06 2.06-.94-2.06-.94-.94-2.06-.94 2.06-2.06.94z\"/><path d=\"M17.41 7.96l-1.37-1.37c-.4-.4-.92-.59-1.43-.59-.52 0-1.04.2-1.43.59L10.3 9.45l-7.72 7.72c-.78.78-.78 2.05 0 2.83L4 21.41c.39.39.9.59 1.41.59.51 0 1.02-.2 1.41-.59l7.78-7.78 2.81-2.81c.8-.78.8-2.07 0-2.86zM5.41 20L4 18.59l7.72-7.72 1.47 1.35L5.41 20z\"/>\n",
              "  </svg>\n",
              "      </button>\n",
              "      \n",
              "  <style>\n",
              "    .colab-df-container {\n",
              "      display:flex;\n",
              "      flex-wrap:wrap;\n",
              "      gap: 12px;\n",
              "    }\n",
              "\n",
              "    .colab-df-convert {\n",
              "      background-color: #E8F0FE;\n",
              "      border: none;\n",
              "      border-radius: 50%;\n",
              "      cursor: pointer;\n",
              "      display: none;\n",
              "      fill: #1967D2;\n",
              "      height: 32px;\n",
              "      padding: 0 0 0 0;\n",
              "      width: 32px;\n",
              "    }\n",
              "\n",
              "    .colab-df-convert:hover {\n",
              "      background-color: #E2EBFA;\n",
              "      box-shadow: 0px 1px 2px rgba(60, 64, 67, 0.3), 0px 1px 3px 1px rgba(60, 64, 67, 0.15);\n",
              "      fill: #174EA6;\n",
              "    }\n",
              "\n",
              "    [theme=dark] .colab-df-convert {\n",
              "      background-color: #3B4455;\n",
              "      fill: #D2E3FC;\n",
              "    }\n",
              "\n",
              "    [theme=dark] .colab-df-convert:hover {\n",
              "      background-color: #434B5C;\n",
              "      box-shadow: 0px 1px 3px 1px rgba(0, 0, 0, 0.15);\n",
              "      filter: drop-shadow(0px 1px 2px rgba(0, 0, 0, 0.3));\n",
              "      fill: #FFFFFF;\n",
              "    }\n",
              "  </style>\n",
              "\n",
              "      <script>\n",
              "        const buttonEl =\n",
              "          document.querySelector('#df-a6298f81-8046-4612-854f-b30cf52cf881 button.colab-df-convert');\n",
              "        buttonEl.style.display =\n",
              "          google.colab.kernel.accessAllowed ? 'block' : 'none';\n",
              "\n",
              "        async function convertToInteractive(key) {\n",
              "          const element = document.querySelector('#df-a6298f81-8046-4612-854f-b30cf52cf881');\n",
              "          const dataTable =\n",
              "            await google.colab.kernel.invokeFunction('convertToInteractive',\n",
              "                                                     [key], {});\n",
              "          if (!dataTable) return;\n",
              "\n",
              "          const docLinkHtml = 'Like what you see? Visit the ' +\n",
              "            '<a target=\"_blank\" href=https://colab.research.google.com/notebooks/data_table.ipynb>data table notebook</a>'\n",
              "            + ' to learn more about interactive tables.';\n",
              "          element.innerHTML = '';\n",
              "          dataTable['output_type'] = 'display_data';\n",
              "          await google.colab.output.renderOutput(dataTable, element);\n",
              "          const docLink = document.createElement('div');\n",
              "          docLink.innerHTML = docLinkHtml;\n",
              "          element.appendChild(docLink);\n",
              "        }\n",
              "      </script>\n",
              "    </div>\n",
              "  </div>\n",
              "  "
            ]
          },
          "metadata": {},
          "execution_count": 46
        }
      ]
    },
    {
      "cell_type": "markdown",
      "source": [
        "\n",
        "\n",
        "*   Apperently MEDV over ~37 and below 6 are outliers\n",
        "*   The mean MEDV values is 22.5\n",
        "\n",
        "\n"
      ],
      "metadata": {
        "id": "ol1qFkTAXgXd"
      }
    },
    {
      "cell_type": "markdown",
      "source": [
        "### Provide a  bar plot for the Charles river variable\n"
      ],
      "metadata": {
        "id": "Ywq1sFCAJspL"
      }
    },
    {
      "cell_type": "code",
      "source": [
        "CHA_barplot = sns.barplot(data=boston_df,x='CHAS')\n",
        "CHA_barplot.set_title('Charles river variable')\n",
        "plt.show()"
      ],
      "metadata": {
        "colab": {
          "base_uri": "https://localhost:8080/",
          "height": 305
        },
        "id": "3RXfef-ywhDg",
        "outputId": "1a500764-949d-4222-e3a2-7e4553e7794f"
      },
      "execution_count": 77,
      "outputs": [
        {
          "output_type": "display_data",
          "data": {
            "text/plain": [
              "<Figure size 576x288 with 1 Axes>"
            ],
            "image/png": "[encoded data removed]"
          },
          "metadata": {}
        }
      ]
    },
    {
      "cell_type": "code",
      "source": [
        "boston_df.CHAS.describe().to_frame().T"
      ],
      "metadata": {
        "colab": {
          "base_uri": "https://localhost:8080/",
          "height": 81
        },
        "id": "TuK9ltugoHwg",
        "outputId": "822c0a8a-37e0-4a98-8b2f-0ee083cf8469"
      },
      "execution_count": 147,
      "outputs": [
        {
          "output_type": "execute_result",
          "data": {
            "text/plain": [
              "      count     mean       std  min  25%  50%  75%  max\n",
              "CHAS  506.0  0.06917  0.253994  0.0  0.0  0.0  0.0  1.0"
            ],
            "text/html": [
              "\n",
              "  <div id=\"df-c16ba0e1-5c53-41dd-b649-f239d4213ed3\">\n",
              "    <div class=\"colab-df-container\">\n",
              "      <div>\n",
              "<style scoped>\n",
              "    .dataframe tbody tr th:only-of-type {\n",
              "        vertical-align: middle;\n",
              "    }\n",
              "\n",
              "    .dataframe tbody tr th {\n",
              "        vertical-align: top;\n",
              "    }\n",
              "\n",
              "    .dataframe thead th {\n",
              "        text-align: right;\n",
              "    }\n",
              "</style>\n",
              "<table border=\"1\" class=\"dataframe\">\n",
              "  <thead>\n",
              "    <tr style=\"text-align: right;\">\n",
              "      <th></th>\n",
              "      <th>count</th>\n",
              "      <th>mean</th>\n",
              "      <th>std</th>\n",
              "      <th>min</th>\n",
              "      <th>25%</th>\n",
              "      <th>50%</th>\n",
              "      <th>75%</th>\n",
              "      <th>max</th>\n",
              "    </tr>\n",
              "  </thead>\n",
              "  <tbody>\n",
              "    <tr>\n",
              "      <th>CHAS</th>\n",
              "      <td>506.0</td>\n",
              "      <td>0.06917</td>\n",
              "      <td>0.253994</td>\n",
              "      <td>0.0</td>\n",
              "      <td>0.0</td>\n",
              "      <td>0.0</td>\n",
              "      <td>0.0</td>\n",
              "      <td>1.0</td>\n",
              "    </tr>\n",
              "  </tbody>\n",
              "</table>\n",
              "</div>\n",
              "      <button class=\"colab-df-convert\" onclick=\"convertToInteractive('df-c16ba0e1-5c53-41dd-b649-f239d4213ed3')\"\n",
              "              title=\"Convert this dataframe to an interactive table.\"\n",
              "              style=\"display:none;\">\n",
              "        \n",
              "  <svg xmlns=\"http://www.w3.org/2000/svg\" height=\"24px\"viewBox=\"0 0 24 24\"\n",
              "       width=\"24px\">\n",
              "    <path d=\"M0 0h24v24H0V0z\" fill=\"none\"/>\n",
              "    <path d=\"M18.56 5.44l.94 2.06.94-2.06 2.06-.94-2.06-.94-.94-2.06-.94 2.06-2.06.94zm-11 1L8.5 8.5l.94-2.06 2.06-.94-2.06-.94L8.5 2.5l-.94 2.06-2.06.94zm10 10l.94 2.06.94-2.06 2.06-.94-2.06-.94-.94-2.06-.94 2.06-2.06.94z\"/><path d=\"M17.41 7.96l-1.37-1.37c-.4-.4-.92-.59-1.43-.59-.52 0-1.04.2-1.43.59L10.3 9.45l-7.72 7.72c-.78.78-.78 2.05 0 2.83L4 21.41c.39.39.9.59 1.41.59.51 0 1.02-.2 1.41-.59l7.78-7.78 2.81-2.81c.8-.78.8-2.07 0-2.86zM5.41 20L4 18.59l7.72-7.72 1.47 1.35L5.41 20z\"/>\n",
              "  </svg>\n",
              "      </button>\n",
              "      \n",
              "  <style>\n",
              "    .colab-df-container {\n",
              "      display:flex;\n",
              "      flex-wrap:wrap;\n",
              "      gap: 12px;\n",
              "    }\n",
              "\n",
              "    .colab-df-convert {\n",
              "      background-color: #E8F0FE;\n",
              "      border: none;\n",
              "      border-radius: 50%;\n",
              "      cursor: pointer;\n",
              "      display: none;\n",
              "      fill: #1967D2;\n",
              "      height: 32px;\n",
              "      padding: 0 0 0 0;\n",
              "      width: 32px;\n",
              "    }\n",
              "\n",
              "    .colab-df-convert:hover {\n",
              "      background-color: #E2EBFA;\n",
              "      box-shadow: 0px 1px 2px rgba(60, 64, 67, 0.3), 0px 1px 3px 1px rgba(60, 64, 67, 0.15);\n",
              "      fill: #174EA6;\n",
              "    }\n",
              "\n",
              "    [theme=dark] .colab-df-convert {\n",
              "      background-color: #3B4455;\n",
              "      fill: #D2E3FC;\n",
              "    }\n",
              "\n",
              "    [theme=dark] .colab-df-convert:hover {\n",
              "      background-color: #434B5C;\n",
              "      box-shadow: 0px 1px 3px 1px rgba(0, 0, 0, 0.15);\n",
              "      filter: drop-shadow(0px 1px 2px rgba(0, 0, 0, 0.3));\n",
              "      fill: #FFFFFF;\n",
              "    }\n",
              "  </style>\n",
              "\n",
              "      <script>\n",
              "        const buttonEl =\n",
              "          document.querySelector('#df-c16ba0e1-5c53-41dd-b649-f239d4213ed3 button.colab-df-convert');\n",
              "        buttonEl.style.display =\n",
              "          google.colab.kernel.accessAllowed ? 'block' : 'none';\n",
              "\n",
              "        async function convertToInteractive(key) {\n",
              "          const element = document.querySelector('#df-c16ba0e1-5c53-41dd-b649-f239d4213ed3');\n",
              "          const dataTable =\n",
              "            await google.colab.kernel.invokeFunction('convertToInteractive',\n",
              "                                                     [key], {});\n",
              "          if (!dataTable) return;\n",
              "\n",
              "          const docLinkHtml = 'Like what you see? Visit the ' +\n",
              "            '<a target=\"_blank\" href=https://colab.research.google.com/notebooks/data_table.ipynb>data table notebook</a>'\n",
              "            + ' to learn more about interactive tables.';\n",
              "          element.innerHTML = '';\n",
              "          dataTable['output_type'] = 'display_data';\n",
              "          await google.colab.output.renderOutput(dataTable, element);\n",
              "          const docLink = document.createElement('div');\n",
              "          docLink.innerHTML = docLinkHtml;\n",
              "          element.appendChild(docLink);\n",
              "        }\n",
              "      </script>\n",
              "    </div>\n",
              "  </div>\n",
              "  "
            ]
          },
          "metadata": {},
          "execution_count": 147
        }
      ]
    },
    {
      "cell_type": "markdown",
      "source": [
        "\n",
        "### Provide a boxplot for the MEDV variable vs the AGE variable. (Discretize the age variable into three groups of 35 years and younger, between 35 and 70 years and 70 years and older)\n"
      ],
      "metadata": {
        "id": "5iMwKSJUJY0B"
      }
    },
    {
      "cell_type": "code",
      "source": [
        "boston_df['age-binned'] = boston_df.AGE.apply(lambda x: '35 years and younger' if x <= 35 else '70 years and older' if x >=  70 else 'between 35 and 70 years' )\n",
        "custom_sort_dict = {\n",
        "                    \"35 years and younger\": 1,\n",
        "                    \"between 35 and 70 years\": 2,\n",
        "                    \"70 years and older\": 3,\n",
        "                  \n",
        "                }"
      ],
      "metadata": {
        "id": "vX4F8lnxJ0mr"
      },
      "execution_count": 92,
      "outputs": []
    },
    {
      "cell_type": "code",
      "source": [
        "# validating the categories by printing the min and max age.\n",
        "boston_df.groupby('age-binned').AGE.describe().sort_index(\n",
        "            key=lambda x: x.map(\n",
        "                custom_sort_dict\n",
        "            )\n",
        ").style.set_caption(\"AGE By Age Groups\")\n"
      ],
      "metadata": {
        "colab": {
          "base_uri": "https://localhost:8080/",
          "height": 192
        },
        "id": "8uW9rTfVMAfn",
        "outputId": "c5dc72d4-9c16-41e5-8298-8f37735d195b"
      },
      "execution_count": 115,
      "outputs": [
        {
          "output_type": "execute_result",
          "data": {
            "text/plain": [
              "<pandas.io.formats.style.Styler at 0x7ff84c52be90>"
            ],
            "text/html": [
              "<style type=\"text/css\">\n",
              "</style>\n",
              "<table id=\"T_d4c36_\" class=\"dataframe\">\n",
              "  <caption>AGE By Age Groups</caption>\n",
              "  <thead>\n",
              "    <tr>\n",
              "      <th class=\"blank level0\" >&nbsp;</th>\n",
              "      <th class=\"col_heading level0 col0\" >count</th>\n",
              "      <th class=\"col_heading level0 col1\" >mean</th>\n",
              "      <th class=\"col_heading level0 col2\" >std</th>\n",
              "      <th class=\"col_heading level0 col3\" >min</th>\n",
              "      <th class=\"col_heading level0 col4\" >25%</th>\n",
              "      <th class=\"col_heading level0 col5\" >50%</th>\n",
              "      <th class=\"col_heading level0 col6\" >75%</th>\n",
              "      <th class=\"col_heading level0 col7\" >max</th>\n",
              "    </tr>\n",
              "    <tr>\n",
              "      <th class=\"index_name level0\" >age-binned</th>\n",
              "      <th class=\"blank col0\" >&nbsp;</th>\n",
              "      <th class=\"blank col1\" >&nbsp;</th>\n",
              "      <th class=\"blank col2\" >&nbsp;</th>\n",
              "      <th class=\"blank col3\" >&nbsp;</th>\n",
              "      <th class=\"blank col4\" >&nbsp;</th>\n",
              "      <th class=\"blank col5\" >&nbsp;</th>\n",
              "      <th class=\"blank col6\" >&nbsp;</th>\n",
              "      <th class=\"blank col7\" >&nbsp;</th>\n",
              "    </tr>\n",
              "  </thead>\n",
              "  <tbody>\n",
              "    <tr>\n",
              "      <th id=\"T_d4c36_level0_row0\" class=\"row_heading level0 row0\" >35 years and younger</th>\n",
              "      <td id=\"T_d4c36_row0_col0\" class=\"data row0 col0\" >91.000000</td>\n",
              "      <td id=\"T_d4c36_row0_col1\" class=\"data row0 col1\" >22.835165</td>\n",
              "      <td id=\"T_d4c36_row0_col2\" class=\"data row0 col2\" >8.938274</td>\n",
              "      <td id=\"T_d4c36_row0_col3\" class=\"data row0 col3\" >2.900000</td>\n",
              "      <td id=\"T_d4c36_row0_col4\" class=\"data row0 col4\" >17.350000</td>\n",
              "      <td id=\"T_d4c36_row0_col5\" class=\"data row0 col5\" >22.900000</td>\n",
              "      <td id=\"T_d4c36_row0_col6\" class=\"data row0 col6\" >31.200000</td>\n",
              "      <td id=\"T_d4c36_row0_col7\" class=\"data row0 col7\" >34.900000</td>\n",
              "    </tr>\n",
              "    <tr>\n",
              "      <th id=\"T_d4c36_level0_row1\" class=\"row_heading level0 row1\" >between 35 and 70 years</th>\n",
              "      <td id=\"T_d4c36_row1_col0\" class=\"data row1 col0\" >128.000000</td>\n",
              "      <td id=\"T_d4c36_row1_col1\" class=\"data row1 col1\" >52.478906</td>\n",
              "      <td id=\"T_d4c36_row1_col2\" class=\"data row1 col2\" >10.203270</td>\n",
              "      <td id=\"T_d4c36_row1_col3\" class=\"data row1 col3\" >35.700000</td>\n",
              "      <td id=\"T_d4c36_row1_col4\" class=\"data row1 col4\" >43.250000</td>\n",
              "      <td id=\"T_d4c36_row1_col5\" class=\"data row1 col5\" >52.850000</td>\n",
              "      <td id=\"T_d4c36_row1_col6\" class=\"data row1 col6\" >61.425000</td>\n",
              "      <td id=\"T_d4c36_row1_col7\" class=\"data row1 col7\" >69.700000</td>\n",
              "    </tr>\n",
              "    <tr>\n",
              "      <th id=\"T_d4c36_level0_row2\" class=\"row_heading level0 row2\" >70 years and older</th>\n",
              "      <td id=\"T_d4c36_row2_col0\" class=\"data row2 col0\" >287.000000</td>\n",
              "      <td id=\"T_d4c36_row2_col1\" class=\"data row2 col1\" >90.256446</td>\n",
              "      <td id=\"T_d4c36_row2_col2\" class=\"data row2 col2\" >8.623400</td>\n",
              "      <td id=\"T_d4c36_row2_col3\" class=\"data row2 col3\" >70.200000</td>\n",
              "      <td id=\"T_d4c36_row2_col4\" class=\"data row2 col4\" >84.150000</td>\n",
              "      <td id=\"T_d4c36_row2_col5\" class=\"data row2 col5\" >92.600000</td>\n",
              "      <td id=\"T_d4c36_row2_col6\" class=\"data row2 col6\" >97.450000</td>\n",
              "      <td id=\"T_d4c36_row2_col7\" class=\"data row2 col7\" >100.000000</td>\n",
              "    </tr>\n",
              "  </tbody>\n",
              "</table>\n"
            ]
          },
          "metadata": {},
          "execution_count": 115
        }
      ]
    },
    {
      "cell_type": "code",
      "source": [
        "plt.figure(figsize=(10,8))\n",
        "MEDV_AGE_boxplot = sns.boxplot(data=boston_df.sort_values(by='age-binned', key = lambda x: x.map(custom_sort_dict)),x=\"age-binned\",y='MEDV')\n",
        "plt.xlabel(\"Age Group\")\n",
        "plt.title(\"MEDV VS AGE\")\n",
        "plt.show()"
      ],
      "metadata": {
        "colab": {
          "base_uri": "https://localhost:8080/",
          "height": 522
        },
        "id": "PBHMYPHuN3lq",
        "outputId": "8c17077a-c894-4171-d7f9-a19e00209b35"
      },
      "execution_count": 113,
      "outputs": [
        {
          "output_type": "display_data",
          "data": {
            "text/plain": [
              "<Figure size 720x576 with 1 Axes>"
            ],
            "image/png": "[encoded data removed]"
          },
          "metadata": {}
        }
      ]
    },
    {
      "cell_type": "code",
      "source": [
        "# validating the categories by printing the min and max age.\n",
        "boston_df.groupby('age-binned').MEDV.describe().sort_index(\n",
        "            key=lambda x: x.map(\n",
        "                custom_sort_dict\n",
        "            )\n",
        ").style.set_caption(\"AGE By Age Groups\")\n"
      ],
      "metadata": {
        "colab": {
          "base_uri": "https://localhost:8080/",
          "height": 192
        },
        "id": "4tx5dsbuQHuS",
        "outputId": "16b6d6eb-8a9c-462c-b7e7-3d656d9ee311"
      },
      "execution_count": 116,
      "outputs": [
        {
          "output_type": "execute_result",
          "data": {
            "text/plain": [
              "<pandas.io.formats.style.Styler at 0x7ff84c20dad0>"
            ],
            "text/html": [
              "<style type=\"text/css\">\n",
              "</style>\n",
              "<table id=\"T_57d76_\" class=\"dataframe\">\n",
              "  <caption>AGE By Age Groups</caption>\n",
              "  <thead>\n",
              "    <tr>\n",
              "      <th class=\"blank level0\" >&nbsp;</th>\n",
              "      <th class=\"col_heading level0 col0\" >count</th>\n",
              "      <th class=\"col_heading level0 col1\" >mean</th>\n",
              "      <th class=\"col_heading level0 col2\" >std</th>\n",
              "      <th class=\"col_heading level0 col3\" >min</th>\n",
              "      <th class=\"col_heading level0 col4\" >25%</th>\n",
              "      <th class=\"col_heading level0 col5\" >50%</th>\n",
              "      <th class=\"col_heading level0 col6\" >75%</th>\n",
              "      <th class=\"col_heading level0 col7\" >max</th>\n",
              "    </tr>\n",
              "    <tr>\n",
              "      <th class=\"index_name level0\" >age-binned</th>\n",
              "      <th class=\"blank col0\" >&nbsp;</th>\n",
              "      <th class=\"blank col1\" >&nbsp;</th>\n",
              "      <th class=\"blank col2\" >&nbsp;</th>\n",
              "      <th class=\"blank col3\" >&nbsp;</th>\n",
              "      <th class=\"blank col4\" >&nbsp;</th>\n",
              "      <th class=\"blank col5\" >&nbsp;</th>\n",
              "      <th class=\"blank col6\" >&nbsp;</th>\n",
              "      <th class=\"blank col7\" >&nbsp;</th>\n",
              "    </tr>\n",
              "  </thead>\n",
              "  <tbody>\n",
              "    <tr>\n",
              "      <th id=\"T_57d76_level0_row0\" class=\"row_heading level0 row0\" >35 years and younger</th>\n",
              "      <td id=\"T_57d76_row0_col0\" class=\"data row0 col0\" >91.000000</td>\n",
              "      <td id=\"T_57d76_row0_col1\" class=\"data row0 col1\" >27.775824</td>\n",
              "      <td id=\"T_57d76_row0_col2\" class=\"data row0 col2\" >7.638198</td>\n",
              "      <td id=\"T_57d76_row0_col3\" class=\"data row0 col3\" >17.100000</td>\n",
              "      <td id=\"T_57d76_row0_col4\" class=\"data row0 col4\" >23.050000</td>\n",
              "      <td id=\"T_57d76_row0_col5\" class=\"data row0 col5\" >24.800000</td>\n",
              "      <td id=\"T_57d76_row0_col6\" class=\"data row0 col6\" >31.150000</td>\n",
              "      <td id=\"T_57d76_row0_col7\" class=\"data row0 col7\" >50.000000</td>\n",
              "    </tr>\n",
              "    <tr>\n",
              "      <th id=\"T_57d76_level0_row1\" class=\"row_heading level0 row1\" >between 35 and 70 years</th>\n",
              "      <td id=\"T_57d76_row1_col0\" class=\"data row1 col0\" >128.000000</td>\n",
              "      <td id=\"T_57d76_row1_col1\" class=\"data row1 col1\" >24.947656</td>\n",
              "      <td id=\"T_57d76_row1_col2\" class=\"data row1 col2\" >6.969370</td>\n",
              "      <td id=\"T_57d76_row1_col3\" class=\"data row1 col3\" >10.200000</td>\n",
              "      <td id=\"T_57d76_row1_col4\" class=\"data row1 col4\" >20.675000</td>\n",
              "      <td id=\"T_57d76_row1_col5\" class=\"data row1 col5\" >22.600000</td>\n",
              "      <td id=\"T_57d76_row1_col6\" class=\"data row1 col6\" >27.425000</td>\n",
              "      <td id=\"T_57d76_row1_col7\" class=\"data row1 col7\" >50.000000</td>\n",
              "    </tr>\n",
              "    <tr>\n",
              "      <th id=\"T_57d76_level0_row2\" class=\"row_heading level0 row2\" >70 years and older</th>\n",
              "      <td id=\"T_57d76_row2_col0\" class=\"data row2 col0\" >287.000000</td>\n",
              "      <td id=\"T_57d76_row2_col1\" class=\"data row2 col1\" >19.793380</td>\n",
              "      <td id=\"T_57d76_row2_col2\" class=\"data row2 col2\" >9.515375</td>\n",
              "      <td id=\"T_57d76_row2_col3\" class=\"data row2 col3\" >5.000000</td>\n",
              "      <td id=\"T_57d76_row2_col4\" class=\"data row2 col4\" >13.800000</td>\n",
              "      <td id=\"T_57d76_row2_col5\" class=\"data row2 col5\" >18.200000</td>\n",
              "      <td id=\"T_57d76_row2_col6\" class=\"data row2 col6\" >22.550000</td>\n",
              "      <td id=\"T_57d76_row2_col7\" class=\"data row2 col7\" >50.000000</td>\n",
              "    </tr>\n",
              "  </tbody>\n",
              "</table>\n"
            ]
          },
          "metadata": {},
          "execution_count": 116
        }
      ]
    },
    {
      "cell_type": "markdown",
      "source": [
        "### Provide a scatter plot to show the relationship between Nitric oxide concentrations and the proportion of non-retail business acres per town. What can you say about the relationship?"
      ],
      "metadata": {
        "id": "sIiTfL_QJyX0"
      }
    },
    {
      "cell_type": "code",
      "source": [
        "sns.regplot(data=boston_df,x=\"NOX\",y=\"INDUS\")\n",
        "plt.title(\"NOX Vs INDUS\")\n",
        "plt.show()"
      ],
      "metadata": {
        "colab": {
          "base_uri": "https://localhost:8080/",
          "height": 305
        },
        "id": "-kSvuPd5YUEG",
        "outputId": "a50379e4-8a23-4023-cb42-2c81ef1ae94a"
      },
      "execution_count": 120,
      "outputs": [
        {
          "output_type": "display_data",
          "data": {
            "text/plain": [
              "<Figure size 576x288 with 1 Axes>"
            ],
            "image/png": "[encoded data removed]"
          },
          "metadata": {}
        }
      ]
    },
    {
      "cell_type": "markdown",
      "source": [
        "In this plot we can see a positive correlation between INDUS and NOX."
      ],
      "metadata": {
        "id": "3VeyL1UUYqqy"
      }
    },
    {
      "cell_type": "markdown",
      "source": [
        "### Create a histogram for the pupil to teacher ratio variable"
      ],
      "metadata": {
        "id": "ZqxImciIaej8"
      }
    },
    {
      "cell_type": "code",
      "source": [
        "sns.histplot(data=boston_df,x=\"PTRATIO\")\n",
        "plt.title(\"Pupil to teacher ratio\")\n",
        "plt.show()"
      ],
      "metadata": {
        "colab": {
          "base_uri": "https://localhost:8080/",
          "height": 305
        },
        "id": "AoI0vzVvahsK",
        "outputId": "7faa5ab4-c601-4686-ae7f-295fbf26ab2a"
      },
      "execution_count": 131,
      "outputs": [
        {
          "output_type": "display_data",
          "data": {
            "text/plain": [
              "<Figure size 576x288 with 1 Axes>"
            ],
            "image/png": "[encoded data removed]"
          },
          "metadata": {}
        }
      ]
    },
    {
      "cell_type": "markdown",
      "source": [
        "## Task 5: Use the appropriate tests to answer the questions provided.\n",
        "For each of the following questions;\n",
        "  - Is there a significant difference in median value of houses bounded by the Charles river or not? (T-test for independent samples)\n",
        "  - Is there a difference in Median values of houses (MEDV) for each proportion of owner occupied units built prior to 1940 (AGE)? (ANOVA)\n",
        "  - Can we conclude that there is no relationship between Nitric oxide concentrations and proportion of non-retail business acres per town? (Pearson Correlation)\n",
        "  - What is the impact of an additional weighted distance  to the five Boston employment centres on the median value of owner occupied homes? (Regression analysis)\n",
        "\n",
        "Be sure to:\n",
        "\n",
        "- State your hypothesis.\n",
        "- Use α = 0.05\n",
        "- Perform the test Statistics.\n",
        "- State the conclusion from the test."
      ],
      "metadata": {
        "id": "WsddDFN3aJGu"
      }
    },
    {
      "cell_type": "markdown",
      "source": [
        "### Is there a significant difference in median value of houses bounded by the Charles river or not? (T-test for independent samples)"
      ],
      "metadata": {
        "id": "oR6ZCt5PhmFu"
      }
    },
    {
      "cell_type": "code",
      "source": [
        "f_statistic, p_value =  stats.ttest_ind( boston_df['MEDV'], boston_df['CHAS'],equal_var=True )\n",
        "print(f\"F_Statistic: {f_statistic:.5f}\\nP-Value: {p_value:.5f}\")"
      ],
      "metadata": {
        "colab": {
          "base_uri": "https://localhost:8080/"
        },
        "id": "0uB6xeV8jByE",
        "outputId": "6a289357-3a04-4b73-f480-659e49c3c9ee"
      },
      "execution_count": 144,
      "outputs": [
        {
          "output_type": "stream",
          "name": "stdout",
          "text": [
            "F_Statistic: 54.92103\n",
            "P-Value: 0.00000\n"
          ]
        }
      ]
    },
    {
      "cell_type": "markdown",
      "source": [
        "**mean are not equals**"
      ],
      "metadata": {
        "id": "EAUqFhbSofHT"
      }
    },
    {
      "cell_type": "markdown",
      "source": [
        "### H$\\emptyset$: Is there not a difference in Median values of houses (MEDV) for each proportion of owner-occupied units built before 1940 (AGE)? (ANOVA)\n",
        "\n"
      ],
      "metadata": {
        "id": "VPer5aI6b_zs"
      }
    },
    {
      "cell_type": "code",
      "source": [
        "class_1 = boston_df.loc[boston_df['age-binned'] ==\"35 years and younger\"]['MEDV']\n",
        "class_2 = boston_df.loc[boston_df['age-binned'] ==\"between 35 and 70 years\"]['MEDV']\n",
        "class_3 = boston_df.loc[boston_df['age-binned'] ==\"70 years and older\"]['MEDV']\n",
        "f_statistic, p_value = stats.f_oneway(class_1,class_2,class_3)\n",
        "print(f\"F_Statistic: {f_statistic:.5f}\\nP-Value: {p_value:.5f}\")"
      ],
      "metadata": {
        "id": "Cv_ppBjxU6cG",
        "colab": {
          "base_uri": "https://localhost:8080/"
        },
        "outputId": "910fcbef-7918-40f4-ad05-9f9d6206025f"
      },
      "execution_count": 135,
      "outputs": [
        {
          "output_type": "stream",
          "name": "stdout",
          "text": [
            "F_Statistic: 36.40765\n",
            "P-Value: 0.00000\n"
          ]
        }
      ]
    },
    {
      "cell_type": "markdown",
      "source": [
        "**The media Values for each proportion of owner-occupied units built before 1940 are different; the p-value from the ANOVA test is less than 0.05.\n",
        "We reject the null hypothesis. The mean of each group are differentes**"
      ],
      "metadata": {
        "id": "juH1C5tRhLo6"
      }
    },
    {
      "cell_type": "markdown",
      "source": [
        " ### Can we conclude that there is no relationship between Nitric oxide concentrations and proportion of non-retail business acres per town? (Pearson Correlation)"
      ],
      "metadata": {
        "id": "Iz0HGPzCcr1I"
      }
    },
    {
      "cell_type": "code",
      "source": [
        "boston_df[['NOX','INDUS']].corr()"
      ],
      "metadata": {
        "colab": {
          "base_uri": "https://localhost:8080/",
          "height": 112
        },
        "id": "zCpI32n7o3fj",
        "outputId": "e5111ce4-e66a-41c4-e4ea-e269babd338c"
      },
      "execution_count": 148,
      "outputs": [
        {
          "output_type": "execute_result",
          "data": {
            "text/plain": [
              "            NOX     INDUS\n",
              "NOX    1.000000  0.763651\n",
              "INDUS  0.763651  1.000000"
            ],
            "text/html": [
              "\n",
              "  <div id=\"df-2c83d344-a5a0-4882-82af-bcd6124cb711\">\n",
              "    <div class=\"colab-df-container\">\n",
              "      <div>\n",
              "<style scoped>\n",
              "    .dataframe tbody tr th:only-of-type {\n",
              "        vertical-align: middle;\n",
              "    }\n",
              "\n",
              "    .dataframe tbody tr th {\n",
              "        vertical-align: top;\n",
              "    }\n",
              "\n",
              "    .dataframe thead th {\n",
              "        text-align: right;\n",
              "    }\n",
              "</style>\n",
              "<table border=\"1\" class=\"dataframe\">\n",
              "  <thead>\n",
              "    <tr style=\"text-align: right;\">\n",
              "      <th></th>\n",
              "      <th>NOX</th>\n",
              "      <th>INDUS</th>\n",
              "    </tr>\n",
              "  </thead>\n",
              "  <tbody>\n",
              "    <tr>\n",
              "      <th>NOX</th>\n",
              "      <td>1.000000</td>\n",
              "      <td>0.763651</td>\n",
              "    </tr>\n",
              "    <tr>\n",
              "      <th>INDUS</th>\n",
              "      <td>0.763651</td>\n",
              "      <td>1.000000</td>\n",
              "    </tr>\n",
              "  </tbody>\n",
              "</table>\n",
              "</div>\n",
              "      <button class=\"colab-df-convert\" onclick=\"convertToInteractive('df-2c83d344-a5a0-4882-82af-bcd6124cb711')\"\n",
              "              title=\"Convert this dataframe to an interactive table.\"\n",
              "              style=\"display:none;\">\n",
              "        \n",
              "  <svg xmlns=\"http://www.w3.org/2000/svg\" height=\"24px\"viewBox=\"0 0 24 24\"\n",
              "       width=\"24px\">\n",
              "    <path d=\"M0 0h24v24H0V0z\" fill=\"none\"/>\n",
              "    <path d=\"M18.56 5.44l.94 2.06.94-2.06 2.06-.94-2.06-.94-.94-2.06-.94 2.06-2.06.94zm-11 1L8.5 8.5l.94-2.06 2.06-.94-2.06-.94L8.5 2.5l-.94 2.06-2.06.94zm10 10l.94 2.06.94-2.06 2.06-.94-2.06-.94-.94-2.06-.94 2.06-2.06.94z\"/><path d=\"M17.41 7.96l-1.37-1.37c-.4-.4-.92-.59-1.43-.59-.52 0-1.04.2-1.43.59L10.3 9.45l-7.72 7.72c-.78.78-.78 2.05 0 2.83L4 21.41c.39.39.9.59 1.41.59.51 0 1.02-.2 1.41-.59l7.78-7.78 2.81-2.81c.8-.78.8-2.07 0-2.86zM5.41 20L4 18.59l7.72-7.72 1.47 1.35L5.41 20z\"/>\n",
              "  </svg>\n",
              "      </button>\n",
              "      \n",
              "  <style>\n",
              "    .colab-df-container {\n",
              "      display:flex;\n",
              "      flex-wrap:wrap;\n",
              "      gap: 12px;\n",
              "    }\n",
              "\n",
              "    .colab-df-convert {\n",
              "      background-color: #E8F0FE;\n",
              "      border: none;\n",
              "      border-radius: 50%;\n",
              "      cursor: pointer;\n",
              "      display: none;\n",
              "      fill: #1967D2;\n",
              "      height: 32px;\n",
              "      padding: 0 0 0 0;\n",
              "      width: 32px;\n",
              "    }\n",
              "\n",
              "    .colab-df-convert:hover {\n",
              "      background-color: #E2EBFA;\n",
              "      box-shadow: 0px 1px 2px rgba(60, 64, 67, 0.3), 0px 1px 3px 1px rgba(60, 64, 67, 0.15);\n",
              "      fill: #174EA6;\n",
              "    }\n",
              "\n",
              "    [theme=dark] .colab-df-convert {\n",
              "      background-color: #3B4455;\n",
              "      fill: #D2E3FC;\n",
              "    }\n",
              "\n",
              "    [theme=dark] .colab-df-convert:hover {\n",
              "      background-color: #434B5C;\n",
              "      box-shadow: 0px 1px 3px 1px rgba(0, 0, 0, 0.15);\n",
              "      filter: drop-shadow(0px 1px 2px rgba(0, 0, 0, 0.3));\n",
              "      fill: #FFFFFF;\n",
              "    }\n",
              "  </style>\n",
              "\n",
              "      <script>\n",
              "        const buttonEl =\n",
              "          document.querySelector('#df-2c83d344-a5a0-4882-82af-bcd6124cb711 button.colab-df-convert');\n",
              "        buttonEl.style.display =\n",
              "          google.colab.kernel.accessAllowed ? 'block' : 'none';\n",
              "\n",
              "        async function convertToInteractive(key) {\n",
              "          const element = document.querySelector('#df-2c83d344-a5a0-4882-82af-bcd6124cb711');\n",
              "          const dataTable =\n",
              "            await google.colab.kernel.invokeFunction('convertToInteractive',\n",
              "                                                     [key], {});\n",
              "          if (!dataTable) return;\n",
              "\n",
              "          const docLinkHtml = 'Like what you see? Visit the ' +\n",
              "            '<a target=\"_blank\" href=https://colab.research.google.com/notebooks/data_table.ipynb>data table notebook</a>'\n",
              "            + ' to learn more about interactive tables.';\n",
              "          element.innerHTML = '';\n",
              "          dataTable['output_type'] = 'display_data';\n",
              "          await google.colab.output.renderOutput(dataTable, element);\n",
              "          const docLink = document.createElement('div');\n",
              "          docLink.innerHTML = docLinkHtml;\n",
              "          element.appendChild(docLink);\n",
              "        }\n",
              "      </script>\n",
              "    </div>\n",
              "  </div>\n",
              "  "
            ]
          },
          "metadata": {},
          "execution_count": 148
        }
      ]
    },
    {
      "cell_type": "markdown",
      "source": [
        "**There is a positive correlation of 0.76**"
      ],
      "metadata": {
        "id": "FcHLi4HKpEZj"
      }
    },
    {
      "cell_type": "markdown",
      "source": [
        "### What is the impact of an additional weighted distance  to the five Boston employment centres on the median value of owner occupied homes?"
      ],
      "metadata": {
        "id": "YLaxuDSTpNDS"
      }
    },
    {
      "cell_type": "code",
      "source": [
        "sns.regplot(data=boston_df,x='DIS',y='MEDV')\n",
        "plt.title(\"DIS VS MEDV\")\n",
        "plt.show()"
      ],
      "metadata": {
        "colab": {
          "base_uri": "https://localhost:8080/",
          "height": 305
        },
        "id": "-zu3HUdbpbpa",
        "outputId": "77ee6dbe-c217-42ad-c1f4-c402dc896e8c"
      },
      "execution_count": 150,
      "outputs": [
        {
          "output_type": "display_data",
          "data": {
            "text/plain": [
              "<Figure size 576x288 with 1 Axes>"
            ],
            "image/png": "[encoded data removed]"
          },
          "metadata": {}
        }
      ]
    },
    {
      "cell_type": "code",
      "source": [
        "import statsmodels.api as sm\n",
        "X = boston_df['DIS']\n",
        "y = boston_df['MEDV']\n",
        "X = sm.add_constant(X)\n",
        "model = sm.OLS(y,X).fit()\n",
        "prediction = model.predict(X)\n",
        "model.summary()"
      ],
      "metadata": {
        "colab": {
          "base_uri": "https://localhost:8080/",
          "height": 471
        },
        "id": "PkmOFf-6p9je",
        "outputId": "9b6d96b9-bf18-426a-8122-b44fd867a8d4"
      },
      "execution_count": 158,
      "outputs": [
        {
          "output_type": "stream",
          "name": "stderr",
          "text": [
            "/usr/local/lib/python3.7/dist-packages/statsmodels/tsa/tsatools.py:117: FutureWarning: In a future version of pandas all arguments of concat except for the argument 'objs' will be keyword-only\n",
            "  x = pd.concat(x[::order], 1)\n"
          ]
        },
        {
          "output_type": "execute_result",
          "data": {
            "text/plain": [
              "<class 'statsmodels.iolib.summary.Summary'>\n",
              "\"\"\"\n",
              "                            OLS Regression Results                            \n",
              "==============================================================================\n",
              "Dep. Variable:                   MEDV   R-squared:                       0.062\n",
              "Model:                            OLS   Adj. R-squared:                  0.061\n",
              "Method:                 Least Squares   F-statistic:                     33.58\n",
              "Date:                Wed, 22 Jun 2022   Prob (F-statistic):           1.21e-08\n",
              "Time:                        23:13:25   Log-Likelihood:                -1823.9\n",
              "No. Observations:                 506   AIC:                             3652.\n",
              "Df Residuals:                     504   BIC:                             3660.\n",
              "Df Model:                           1                                         \n",
              "Covariance Type:            nonrobust                                         \n",
              "==============================================================================\n",
              "                 coef    std err          t      P>|t|      [0.025      0.975]\n",
              "------------------------------------------------------------------------------\n",
              "const         18.3901      0.817     22.499      0.000      16.784      19.996\n",
              "DIS            1.0916      0.188      5.795      0.000       0.722       1.462\n",
              "==============================================================================\n",
              "Omnibus:                      139.779   Durbin-Watson:                   0.570\n",
              "Prob(Omnibus):                  0.000   Jarque-Bera (JB):              305.104\n",
              "Skew:                           1.466   Prob(JB):                     5.59e-67\n",
              "Kurtosis:                       5.424   Cond. No.                         9.32\n",
              "==============================================================================\n",
              "\n",
              "Warnings:\n",
              "[1] Standard Errors assume that the covariance matrix of the errors is correctly specified.\n",
              "\"\"\""
            ],
            "text/html": [
              "<table class=\"simpletable\">\n",
              "<caption>OLS Regression Results</caption>\n",
              "<tr>\n",
              "  <th>Dep. Variable:</th>          <td>MEDV</td>       <th>  R-squared:         </th> <td>   0.062</td>\n",
              "</tr>\n",
              "<tr>\n",
              "  <th>Model:</th>                   <td>OLS</td>       <th>  Adj. R-squared:    </th> <td>   0.061</td>\n",
              "</tr>\n",
              "<tr>\n",
              "  <th>Method:</th>             <td>Least Squares</td>  <th>  F-statistic:       </th> <td>   33.58</td>\n",
              "</tr>\n",
              "<tr>\n",
              "  <th>Date:</th>             <td>Wed, 22 Jun 2022</td> <th>  Prob (F-statistic):</th> <td>1.21e-08</td>\n",
              "</tr>\n",
              "<tr>\n",
              "  <th>Time:</th>                 <td>23:13:25</td>     <th>  Log-Likelihood:    </th> <td> -1823.9</td>\n",
              "</tr>\n",
              "<tr>\n",
              "  <th>No. Observations:</th>      <td>   506</td>      <th>  AIC:               </th> <td>   3652.</td>\n",
              "</tr>\n",
              "<tr>\n",
              "  <th>Df Residuals:</th>          <td>   504</td>      <th>  BIC:               </th> <td>   3660.</td>\n",
              "</tr>\n",
              "<tr>\n",
              "  <th>Df Model:</th>              <td>     1</td>      <th>                     </th>     <td> </td>   \n",
              "</tr>\n",
              "<tr>\n",
              "  <th>Covariance Type:</th>      <td>nonrobust</td>    <th>                     </th>     <td> </td>   \n",
              "</tr>\n",
              "</table>\n",
              "<table class=\"simpletable\">\n",
              "<tr>\n",
              "    <td></td>       <th>coef</th>     <th>std err</th>      <th>t</th>      <th>P>|t|</th>  <th>[0.025</th>    <th>0.975]</th>  \n",
              "</tr>\n",
              "<tr>\n",
              "  <th>const</th> <td>   18.3901</td> <td>    0.817</td> <td>   22.499</td> <td> 0.000</td> <td>   16.784</td> <td>   19.996</td>\n",
              "</tr>\n",
              "<tr>\n",
              "  <th>DIS</th>   <td>    1.0916</td> <td>    0.188</td> <td>    5.795</td> <td> 0.000</td> <td>    0.722</td> <td>    1.462</td>\n",
              "</tr>\n",
              "</table>\n",
              "<table class=\"simpletable\">\n",
              "<tr>\n",
              "  <th>Omnibus:</th>       <td>139.779</td> <th>  Durbin-Watson:     </th> <td>   0.570</td>\n",
              "</tr>\n",
              "<tr>\n",
              "  <th>Prob(Omnibus):</th> <td> 0.000</td>  <th>  Jarque-Bera (JB):  </th> <td> 305.104</td>\n",
              "</tr>\n",
              "<tr>\n",
              "  <th>Skew:</th>          <td> 1.466</td>  <th>  Prob(JB):          </th> <td>5.59e-67</td>\n",
              "</tr>\n",
              "<tr>\n",
              "  <th>Kurtosis:</th>      <td> 5.424</td>  <th>  Cond. No.          </th> <td>    9.32</td>\n",
              "</tr>\n",
              "</table><br/><br/>Warnings:<br/>[1] Standard Errors assume that the covariance matrix of the errors is correctly specified."
            ]
          },
          "metadata": {},
          "execution_count": 158
        }
      ]
    },
    {
      "cell_type": "code",
      "source": [
        "print(f\"Coef Person: {0.062**0.5}\")"
      ],
      "metadata": {
        "colab": {
          "base_uri": "https://localhost:8080/"
        },
        "id": "ufcMEdrpqqO9",
        "outputId": "40cb3908-a05d-473f-95e8-4c921e1641f5"
      },
      "execution_count": 156,
      "outputs": [
        {
          "output_type": "stream",
          "name": "stdout",
          "text": [
            "Coef Person: 0.24899799195977465\n"
          ]
        }
      ]
    },
    {
      "cell_type": "markdown",
      "source": [
        "We have a low correlation between DIVS and MEDV with a coefficient of 1.0916."
      ],
      "metadata": {
        "id": "tE0R3NEBq4Pd"
      }
    }
  ]
}